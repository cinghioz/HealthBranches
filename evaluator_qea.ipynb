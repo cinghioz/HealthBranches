{
 "cells": [
  {
   "cell_type": "code",
   "execution_count": null,
   "metadata": {},
   "outputs": [],
   "source": [
    "import re\n",
    "import pandas as pd"
   ]
  },
  {
   "cell_type": "code",
   "execution_count": null,
   "metadata": {},
   "outputs": [],
   "source": [
    "def extract_option(answer):\n",
    "    \"\"\"Extract the chosen option (A, B, C, D, E or a, b, c, d, e) from the LLM's answer.\"\"\"\n",
    "    \n",
    "    answer = str(answer).strip()  # Remove leading/trailing spaces\n",
    "\n",
    "    # 1) Match a single character (a-e or A-E)\n",
    "    match = re.fullmatch(r'[a-eA-E]', answer)\n",
    "    if match:\n",
    "        return match.group(0).upper()\n",
    "\n",
    "    # 2) Match a letter followed by a space (with or without more text)\n",
    "    match = re.search(r'^([a-eA-E])\\s', answer)\n",
    "    if match:\n",
    "        return match.group(1).upper()\n",
    "    \n",
    "    # 3) Match a letter followed by a period, e.g., A., b.\n",
    "    match = re.search(r'^([a-eA-E])\\.', answer)\n",
    "    if match:\n",
    "        return match.group(1).upper()\n",
    "\n",
    "    # 4) Match a letter inside parentheses, e.g., (a), (B),\n",
    "    # OR a letter preceded by a space and followed by `)`, e.g., \"text d) more text\" (but NOT \"textd)\")\n",
    "    match = re.search(r'\\(([a-eA-E])\\)|\\s([a-eA-E])\\)', answer)\n",
    "    if match:\n",
    "        return (match.group(1) or match.group(2)).upper()\n",
    "    \n",
    "    return None\n",
    "\n",
    "def evaluate_answers(file_path):\n",
    "    df = pd.read_csv(file_path)\n",
    "\n",
    "    df['correct_answer'] = df['real']\n",
    "    \n",
    "    result_columns = ['question', 'correct_answer']\n",
    "    \n",
    "    # Evaluate all columns that start with \"zero_shot\" or \"one_shot\"\n",
    "    for col in [c for c in df.columns if c.startswith((\"zero_shot\", \"one_shot\"))]:\n",
    "        df[f'{col}_choice'] = df[col].apply(extract_option)\n",
    "        df[f'{col}_is_correct'] = df[f'{col}_choice'] == df['correct_answer']\n",
    "        accuracy = df[f'{col}_is_correct'].mean()\n",
    "        print(f'Accuracy for {col}: {accuracy:.2%}')\n",
    "        result_columns.extend([f'{col}_choice', f'{col}_is_correct'])\n",
    "    \n",
    "    return df[result_columns]\n",
    "\n",
    "models = [\"mistral\", \"llama3.1:8b\", \"llama2:7b\", \"gemma:7b\", \"gemma2:9b\", \"phi4:14b\", \"qwen2.5:7b\", \"medllama2:7b\"]\n",
    "\n",
    "for model in models:\n",
    "    print(f\"Results for {model}\")\n",
    "    evaluate_answers(f\"/home/cc/PHD/ragkg/results_quiz_v2_{model}.csv\")"
   ]
  },
  {
   "cell_type": "code",
   "execution_count": null,
   "metadata": {},
   "outputs": [],
   "source": [
    "for model in models:\n",
    "    print(f\"Results for {model}\")\n",
    "    evaluate_answers(f\"/home/cc/PHD/ragkg/results_quiz_baseline_v2_{model}.csv\")"
   ]
  },
  {
   "cell_type": "code",
   "execution_count": null,
   "metadata": {},
   "outputs": [],
   "source": [
    "# Results for mistral\n",
    "# Accuracy for zero_shot: 59.49%\n",
    "# Accuracy for zero_shot_rag: 62.55%\n",
    "# Results for llama3.1:8b\n",
    "# Accuracy for zero_shot: 63.60%\n",
    "# Accuracy for zero_shot_rag: 69.34%\n",
    "# Results for llama2:7b\n",
    "# Accuracy for zero_shot: 20.53%\n",
    "# Accuracy for zero_shot_rag: 41.85%\n",
    "# Results for gemma:7b\n",
    "# Accuracy for zero_shot: 58.26%\n",
    "# Accuracy for zero_shot_rag: 64.90%\n",
    "# Results for gemma2:9b\n",
    "# Accuracy for zero_shot: 66.81%\n",
    "# Accuracy for zero_shot_rag: 71.00%\n",
    "# Results for qwen2.5:7b\n",
    "# Accuracy for zero_shot: 65.58%\n",
    "# Accuracy for zero_shot_rag: 64.72%"
   ]
  }
 ],
 "metadata": {
  "kernelspec": {
   "display_name": ".venv",
   "language": "python",
   "name": "python3"
  },
  "language_info": {
   "codemirror_mode": {
    "name": "ipython",
    "version": 3
   },
   "file_extension": ".py",
   "mimetype": "text/x-python",
   "name": "python",
   "nbconvert_exporter": "python",
   "pygments_lexer": "ipython3",
   "version": "3.12.3"
  }
 },
 "nbformat": 4,
 "nbformat_minor": 2
}
