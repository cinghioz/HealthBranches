{
 "cells": [
  {
   "cell_type": "code",
   "execution_count": null,
   "metadata": {},
   "outputs": [],
   "source": [
    "import re\n",
    "import pandas as pd\n",
    "from collections import Counter\n",
    "import ast\n",
    "import matplotlib.pyplot as plt\n",
    "import seaborn as sns\n",
    "import numpy as np\n",
    "import os\n",
    "from collections import defaultdict\n",
    "from tqdm.notebook import tqdm\n",
    "\n",
    "from utils import check_options, extract_option\n",
    "\n",
    "PATH = \"/home/cc/PHD/HealthBranches/\"\n",
    "BENCH =  f\"{PATH}results/results_QUIZ_bench_\"\n",
    "BASE =  f\"{PATH}results/results_QUIZ_baseline_\"\n",
    "MEDQA =  f\"{PATH}results-medqa/results_QUIZ_medqa_\""
   ]
  },
  {
   "cell_type": "code",
   "execution_count": null,
   "metadata": {},
   "outputs": [],
   "source": [
    "old = pd.read_csv(f\"{PATH}questions_pro/dataset_updated.csv\")\n",
    "new = pd.read_csv(f\"{PATH}refined_paths.csv\")"
   ]
  },
  {
   "cell_type": "code",
   "execution_count": null,
   "metadata": {},
   "outputs": [],
   "source": [
    "len(old['question'].unique()), len(new['question'].unique()), len(old), len(new)\n",
    "old = old.drop_duplicates(subset=['question'])\n",
    "new = new.drop_duplicates(subset=['question'])\n",
    "\n",
    "print(len(old))\n",
    "print(len(new))\n",
    "\n",
    "old.to_csv(f\"{PATH}questions_pro/dataset_updated_nodup.csv\", index=False)\n",
    "new.to_csv(f\"{PATH}questions_pro/dataset_updated_V2path.csv\", index=False)"
   ]
  },
  {
   "cell_type": "code",
   "execution_count": null,
   "metadata": {},
   "outputs": [],
   "source": [
    "# Carica i CSV\n",
    "df_dataset = pd.read_csv('/home/cc/PHD/HealthBranches/questions_pro/ultimate_questions_v3_full_balanced.csv')       # CSV completo delle domande\n",
    "df_subset = pd.read_csv('/home/cc/PHD/HealthBranches/questions_to_check.csv')         # CSV con le domande da correggere\n",
    "df_corrected = pd.read_csv('/home/cc/PHD/HealthBranches/question_checked.csv')    # CSV con le domande corrette; contiene la colonna \"ID\" (l'indice nel CSV subset)\n",
    "\n",
    "# Resetta l'indice di df_subset per garantire che sia numerato da 0 a len(df_subset)-1\n",
    "# df_subset.reset_index(drop=True, inplace=True)\n",
    "\n",
    "mapping = {}\n",
    "for _, row in df_corrected.iterrows():\n",
    "    idx = int(row['ID'])\n",
    "    if idx < len(df_subset):\n",
    "        original_question = df_subset.loc[idx, 'question']\n",
    "        mapping[original_question] = {\n",
    "            'question': row['question'],\n",
    "            'answer': row['answer'],\n",
    "            'options': row['options'],\n",
    "            'correct_option': row['correct_option'],\n",
    "            'path': row['path']\n",
    "        }\n",
    "    else:\n",
    "        print(f\"Warning: ID {idx} non presente in df_subset\")\n",
    "\n",
    "# Funzione per aggiornare una riga del dataset, se la domanda è presente nel mapping\n",
    "def update_row(row):\n",
    "    corrections = mapping.get(row['question'])\n",
    "    if corrections:\n",
    "        row['question'] = corrections['question']\n",
    "        row['answer'] = corrections['answer']\n",
    "        row['options'] = corrections['options']\n",
    "        row['correct_option'] = corrections['correct_option']\n",
    "        row['path'] = corrections['path']\n",
    "    return row\n",
    "\n",
    "# Applica la funzione a ogni riga del dataset\n",
    "df_dataset = df_dataset.apply(update_row, axis=1)\n",
    "df_dataset.drop(columns=['answer'], inplace=True)\n",
    "\n",
    "# Salva il dataset aggiornato\n",
    "df_dataset.to_csv('dataset_updated.csv', index=False)\n",
    "print(\"Dataset aggiornato salvato come 'dataset_updated.csv'\")"
   ]
  }
 ],
 "metadata": {
  "kernelspec": {
   "display_name": ".venv",
   "language": "python",
   "name": "python3"
  },
  "language_info": {
   "codemirror_mode": {
    "name": "ipython",
    "version": 3
   },
   "file_extension": ".py",
   "mimetype": "text/x-python",
   "name": "python",
   "nbconvert_exporter": "python",
   "pygments_lexer": "ipython3",
   "version": "3.12.3"
  }
 },
 "nbformat": 4,
 "nbformat_minor": 2
}
