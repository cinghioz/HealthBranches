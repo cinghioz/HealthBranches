{
 "cells": [
  {
   "cell_type": "code",
   "execution_count": null,
   "metadata": {},
   "outputs": [],
   "source": [
    "import os\n",
    "import pandas as pd\n",
    "import numpy as np\n",
    "import argparse\n",
    "import ast\n",
    "from together import Together\n",
    "from alive_progress import alive_bar\n",
    "\n",
    "from prompt import *\n",
    "from classes.utils import extract_option\n",
    "\n",
    "client = Together(api_key=\"de1d1c231987694e2b9111e06e048732d206ecaee729b8aee41e2121006f2cfc\")\n",
    "PATH = \"/home/cc/PHD/HealthBranches/\""
   ]
  },
  {
   "cell_type": "code",
   "execution_count": null,
   "metadata": {},
   "outputs": [],
   "source": [
    "def together_inference(client, query, template, path, choices, condition):\n",
    "    prompt = template.format(question=query, cond=condition, path=path, options=choices)\n",
    "    response = client.chat.completions.create(\n",
    "        # model=\"meta-llama/Meta-Llama-3.1-405B-Instruct-Turbo\",\n",
    "        model=\"meta-llama/Llama-3.3-70B-Instruct-Turbo-Free\",\n",
    "        messages=[{\"role\": \"user\", \"content\": prompt}],\n",
    "    )\n",
    "\n",
    "    # print(response.choices[0].message.content)\n",
    "    return response.choices[0].message.content"
   ]
  },
  {
   "cell_type": "code",
   "execution_count": null,
   "metadata": {},
   "outputs": [],
   "source": [
    "df = pd.read_csv(\"/home/cc/PHD/HealthBranches/results/results_QUIZ_bench_Llama-3.1-405B-Instruct-Turbo.csv\")\n",
    "df[\"zero_shot_new\"] = df[\"zero_shot\"].apply(extract_option)\n",
    "\n",
    "big_filtered = df[df[\"zero_shot_new\"].str.upper() != df[\"real\"].str.upper()]\n",
    "\n",
    "# %%\n",
    "folder_path = f\"{PATH}questions_pro/ultimate_questions_v3_full_balanced.csv\"\n",
    "questions = pd.read_csv(folder_path)\n",
    "\n",
    "template = CHECK_QUESTION_OPIONS \n",
    "\n",
    "rows = []\n",
    "questions = pd.read_csv(folder_path)\n",
    "questions = questions[questions[\"question\"].isin(big_filtered[\"question\"])] # Per test su 405B"
   ]
  },
  {
   "cell_type": "code",
   "execution_count": null,
   "metadata": {},
   "outputs": [],
   "source": [
    "print(len(questions))"
   ]
  },
  {
   "cell_type": "code",
   "execution_count": null,
   "metadata": {},
   "outputs": [],
   "source": [
    "with alive_bar(len(questions)) as bar:\n",
    "    for index, row in questions[:20].iterrows():\n",
    "        res = []\n",
    "        try:\n",
    "            opts = ast.literal_eval(row['options'].replace(\"['\", '[\"').replace(\"']\", '\"]').replace(\"', '\", '\", \"'))\n",
    "            \n",
    "            if not isinstance(opts, list) or len(opts) != 5:\n",
    "                print(f\"Skipping row {index} due to invalid options\")\n",
    "                continue  # Skip this iteration if the condition is not met\n",
    "\n",
    "        except (ValueError, SyntaxError):\n",
    "            print(f\"Skipping row {index} due to value/syntax error\")\n",
    "            continue  # Skip if there's an issue with evaluation\n",
    "\n",
    "        txt_name = row['condition'].upper()+\".txt\"\n",
    "        txt_folder_name = f\"{PATH}data/kgbase-new/\"\n",
    "\n",
    "        try:\n",
    "            with open(os.path.join(txt_folder_name, txt_name), 'r') as file:\n",
    "                text = file.readlines()\n",
    "        except Exception:\n",
    "            print(os.path.join(txt_folder_name, txt_name))\n",
    "            print(f\"{txt_name} text is EMPTY!\")\n",
    "            continue    \n",
    "        \n",
    "\n",
    "        # res.append(together_inference(client, row['question'], template, row['path'], opts, row['condition'].lower()))\n",
    "        print(row['answer'])\n",
    "        print(together_inference(client, row['question'], template, row['path'], opts, row['condition'].lower()))\n",
    "        # res.append(row[\"correct_option\"])\n",
    "        # res.append(row['question'])\n",
    "        # res.append(row['path'])\n",
    "        # res.insert(0, row['condition'].lower())\n",
    "\n",
    "        # rows.append(res)\n",
    "        bar()\n",
    "\n",
    "\n",
    "#     df = pd.DataFrame(rows, columns=[\"name\", \"zero_shot\", \"real\", \"question\", \"path\"])\n",
    "#     df.to_csv(f\"{PATH}results/results_quiz_405B.csv\", index=False)\n",
    "\n",
    "# print(f\"Model BIG done!\\n\")\n"
   ]
  }
 ],
 "metadata": {
  "kernelspec": {
   "display_name": ".venv",
   "language": "python",
   "name": "python3"
  },
  "language_info": {
   "codemirror_mode": {
    "name": "ipython",
    "version": 3
   },
   "file_extension": ".py",
   "mimetype": "text/x-python",
   "name": "python",
   "nbconvert_exporter": "python",
   "pygments_lexer": "ipython3",
   "version": "3.12.3"
  }
 },
 "nbformat": 4,
 "nbformat_minor": 2
}
