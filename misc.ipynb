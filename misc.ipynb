{
 "cells": [
  {
   "cell_type": "code",
   "execution_count": null,
   "metadata": {},
   "outputs": [],
   "source": [
    "import os\n",
    "import pandas as pd\n",
    "import numpy as np\n",
    "import argparse\n",
    "import ast\n",
    "from together import Together\n",
    "from alive_progress import alive_bar\n",
    "from collections import Counter\n",
    "\n",
    "from prompt import *\n",
    "from classes.utils import extract_option\n",
    "\n",
    "PATH = \"/home/cc/PHD/HealthBranches/\""
   ]
  },
  {
   "cell_type": "code",
   "execution_count": null,
   "metadata": {},
   "outputs": [],
   "source": [
    "df = pd.read_csv(f\"{PATH}results/results_quiz_Llama-3.3-70B-Instruct-Turbo-Free.csv\")\n",
    "df[\"zero_shot_new\"] = df[\"zero_shot\"].apply(extract_option)\n",
    "\n",
    "big_filtered = df[df[\"zero_shot_new\"].str.upper() != df[\"real\"].str.upper()]\n",
    "len(big_filtered)"
   ]
  },
  {
   "cell_type": "code",
   "execution_count": null,
   "metadata": {},
   "outputs": [],
   "source": [
    "small_df = pd.read_csv(f\"{PATH}results/results_quiz_mistral.csv\")\n",
    "small_df = small_df[small_df[\"question\"].isin(big_filtered[\"question\"])]"
   ]
  },
  {
   "cell_type": "code",
   "execution_count": null,
   "metadata": {},
   "outputs": [],
   "source": [
    "small_df[\"zero_shot_new\"] = small_df[\"zero_shot\"].apply(extract_option)\n",
    "small_filtered = small_df[small_df[\"zero_shot_new\"].str.upper() != small_df[\"real\"].str.upper()]"
   ]
  },
  {
   "cell_type": "code",
   "execution_count": null,
   "metadata": {},
   "outputs": [],
   "source": [
    "# Directory contenente i file CSV\n",
    "csv_directory = \"/home/cc/PHD/HealthBranches/quiz-ultimate-dataset\"\n",
    "\n",
    "# Leggere tutti i CSV\n",
    "csv_files = [os.path.join(csv_directory, f) for f in os.listdir(csv_directory) if f.endswith(\".csv\")]\n",
    "questions = []\n",
    "\n",
    "print(csv_files)\n",
    "\n",
    "# Elaborazione di ogni CSV\n",
    "for file in csv_files:\n",
    "    df = pd.read_csv(file)\n",
    "\n",
    "    # Rimuove la colonna \"zero_shot_rag\" se esiste\n",
    "    if \"zero_shot_rag\" in df.columns:\n",
    "        df = df.drop(columns=[\"zero_shot_rag\"])\n",
    "\n",
    "    # Applica la funzione di estrazione su zero_shot\n",
    "    df[\"zero_shot\"] = df[\"zero_shot\"].apply(extract_option)\n",
    "\n",
    "    # Filtra le righe in cui zero_shot è diverso da real\n",
    "    df_filtered = df[df[\"zero_shot\"] != df[\"real\"]].copy()\n",
    "\n",
    "    questions.extend(df_filtered['question'].values)"
   ]
  },
  {
   "cell_type": "code",
   "execution_count": null,
   "metadata": {},
   "outputs": [],
   "source": [
    "# Conta le occorrenze\n",
    "conteggio = Counter(questions)\n",
    "\n",
    "# Ordina in ordine decrescente\n",
    "dizionario_ordinato = dict(sorted(conteggio.items(), key=lambda x: x[1], reverse=True))\n",
    "\n",
    "filtered_dict = {k: v for k, v in dizionario_ordinato.items() if v >= 6}\n",
    "\n",
    "print(len(filtered_dict))"
   ]
  },
  {
   "cell_type": "code",
   "execution_count": null,
   "metadata": {},
   "outputs": [],
   "source": [
    "questions_to_check = pd.read_csv(\"/home/cc/PHD/HealthBranches/questions_to_check.csv\")\n",
    "\n",
    "# Trova le domande che sono sia nel dizionario che nel DataFrame\n",
    "matching_questions = [q for q in filtered_dict.keys() if q in questions_to_check[\"question\"].values]\n",
    "print(len(matching_questions))\n",
    "\n",
    "print(\"Domande trovate nel DataFrame:\", len(matching_questions))"
   ]
  },
  {
   "cell_type": "code",
   "execution_count": null,
   "metadata": {},
   "outputs": [],
   "source": [
    "# Carica il CSV (sostituisci 'file.csv' con il tuo file)\n",
    "df = pd.read_csv(\"/home/cc/PHD/HealthBranches/results/results_checker_70B.csv\")\n",
    "\n",
    "# Conta le occorrenze di ogni valore nella colonna \"check\"\n",
    "conteggio = df[\"check\"].value_counts().sort_index()\n",
    "\n",
    "# Stampa il risultato\n",
    "print(conteggio)"
   ]
  }
 ],
 "metadata": {
  "kernelspec": {
   "display_name": ".venv",
   "language": "python",
   "name": "python3"
  },
  "language_info": {
   "codemirror_mode": {
    "name": "ipython",
    "version": 3
   },
   "file_extension": ".py",
   "mimetype": "text/x-python",
   "name": "python",
   "nbconvert_exporter": "python",
   "pygments_lexer": "ipython3",
   "version": "3.12.3"
  }
 },
 "nbformat": 4,
 "nbformat_minor": 2
}
